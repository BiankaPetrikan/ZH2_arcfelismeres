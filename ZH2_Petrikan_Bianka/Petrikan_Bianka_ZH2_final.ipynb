{
 "cells": [
  {
   "cell_type": "markdown",
   "id": "c88f2974",
   "metadata": {},
   "source": [
    "# Arcfelismerés"
   ]
  },
  {
   "cell_type": "markdown",
   "id": "4d304ecc",
   "metadata": {},
   "source": [
    "Az adatok az LFW nyílt online adathalmazból származnak, amelyeket a scikit-learn fetch függvénnyel érhetünk el."
   ]
  },
  {
   "cell_type": "markdown",
   "id": "d3a8362c",
   "metadata": {},
   "source": [
    "## 1.Feladat"
   ]
  },
  {
   "cell_type": "code",
   "execution_count": 2,
   "id": "f1661726",
   "metadata": {},
   "outputs": [
    {
     "name": "stdout",
     "output_type": "stream",
     "text": [
      "kesz\n"
     ]
    }
   ],
   "source": [
    "from sklearn.datasets import fetch_lfw_people\n",
    "\n",
    "lfw_dataset = fetch_lfw_people(min_faces_per_person=5, resize=1.0, color=False)\n",
    "print(\"kesz\")"
   ]
  },
  {
   "cell_type": "code",
   "execution_count": 3,
   "id": "fd6b5463",
   "metadata": {},
   "outputs": [
    {
     "name": "stdout",
     "output_type": "stream",
     "text": [
      "Képek száma: 4254\n",
      "Kép mérete (magasság, szélesség): 125 x 94\n",
      "Célok száma: 4254\n",
      "Személyek száma: 229\n",
      "Személyek nevei: ['Al Gore' 'Alan Greenspan' 'Albert Costa' 'Alejandro Toledo' 'Ali Naimi'\n",
      " 'Alvaro Uribe' 'Amelie Mauresmo' 'Ana Guevara' 'Ana Palacio'\n",
      " 'Andre Agassi' 'Andy Roddick' 'Angela Merkel' 'Ann Veneman'\n",
      " 'Anna Kournikova' 'Ari Fleischer' 'Ariel Sharon' 'Arminio Fraga'\n",
      " 'Arnoldo Aleman' 'Atal Bihari Vajpayee' 'Benjamin Netanyahu'\n",
      " 'Bertie Ahern' 'Bill Clinton' 'Bill McBride' 'Bill Simon' 'Bob Graham'\n",
      " 'Bob Stoops' 'Boris Becker' 'Britney Spears' 'Bulent Ecevit'\n",
      " 'Calista Flockhart' 'Carlos Menem' 'Celine Dion' 'Cesar Gaviria'\n",
      " 'Charles Moose' 'Charlton Heston' 'Chen Shui-bian' 'Choi Sung-hong'\n",
      " 'Christine Todd Whitman' 'Ciro Gomes' 'Colin Farrell' 'Colin Montgomerie'\n",
      " 'Colin Powell' 'Condoleezza Rice' 'Costas Simitis' 'David Beckham'\n",
      " 'David Nalbandian' 'David Trimble' 'David Wells' 'Dennis Hastert'\n",
      " 'Denzel Washington' 'Dick Cheney' 'Donald Rumsfeld' 'Edmund Stoiber'\n",
      " 'Eduard Shevardnadze' 'Eduardo Duhalde' 'Elsa Zylberstein'\n",
      " 'Enrique Bolanos' 'Erika Harold' 'Fernando Gonzalez'\n",
      " 'Fernando Henrique Cardoso' 'Fidel Castro' 'George Clooney'\n",
      " 'George HW Bush' 'George Pataki' 'George Robertson' 'George W Bush'\n",
      " 'Gerhard Schroeder' 'Gerry Adams' 'Gloria Macapagal Arroyo' 'Goldie Hawn'\n",
      " 'Gonzalo Sanchez de Lozada' 'Gordon Brown' 'Gray Davis' 'Gwyneth Paltrow'\n",
      " 'Hamid Karzai' 'Hans Blix' 'Harrison Ford' 'Heidi Klum' 'Hillary Clinton'\n",
      " 'Hosni Mubarak' 'Howard Dean' 'Hu Jintao' 'Hugo Chavez' 'Ian Thorpe'\n",
      " 'Igor Ivanov' 'JK Rowling' 'Jack Straw' 'Jackie Chan' 'Jacques Chirac'\n",
      " 'Jake Gyllenhaal' 'James Blake' 'James Kelly' 'James Wolfensohn'\n",
      " 'Javier Solana' 'Jean Chretien' 'Jean-Pierre Raffarin' 'Jeb Bush'\n",
      " 'Jennifer Aniston' 'Jennifer Capriati' 'Jennifer Garner' 'Jennifer Lopez'\n",
      " 'Jeremy Greenstock' 'Jesse Jackson' 'Jimmy Carter' 'Joe Lieberman'\n",
      " 'John Ashcroft' 'John Bolton' 'John Howard' 'John Manley' 'John McCain'\n",
      " 'John Travolta' 'Jonathan Edwards' 'Joschka Fischer' 'Jose Serra'\n",
      " 'Joseph Biden' 'Juan Carlos Ferrero' 'Juan Pablo Montoya'\n",
      " 'Julianne Moore' 'Junichiro Koizumi' 'Justin Timberlake' 'Justine Pasek'\n",
      " 'Kate Hudson' 'Kim Dae-jung' 'King Abdullah II' 'Kofi Annan'\n",
      " 'Kurt Warner' 'Lance Armstrong' 'Lance Bass' 'Larry Brown' 'Laura Bush'\n",
      " 'Li Peng' 'Lindsay Davenport' 'Liza Minnelli' 'Lleyton Hewitt' 'Lucy Liu'\n",
      " 'Luis Gonzalez Macchi' 'Luiz Inacio Lula da Silva' 'Mahathir Mohamad'\n",
      " 'Marco Antonio Barrera' 'Martha Stewart' 'Martin McGuinness'\n",
      " 'Megawati Sukarnoputri' 'Michael Bloomberg' 'Michael Chang'\n",
      " 'Michael Chiklis' 'Michael Douglas' 'Michael Schumacher' 'Michelle Yeoh'\n",
      " 'Mohammad Khatami' 'Mohammed Al-Douri' 'Monica Seles' 'Naji Sabri'\n",
      " 'Nancy Pelosi' 'Naomi Watts' 'Nia Vardalos' 'Nick Nolte' 'Nicole Kidman'\n",
      " 'Pamela Anderson' 'Paul Burrell' 'Paul Martin' 'Paul McCartney'\n",
      " 'Paul ONeill' 'Paula Radcliffe' 'Pedro Malan' 'Pervez Musharraf'\n",
      " 'Pete Sampras' 'Peter Struck' 'Pierce Brosnan' 'Prince Charles'\n",
      " 'Queen Elizabeth II' 'Ray Romano' 'Ricardo Lagos' 'Richard Gephardt'\n",
      " 'Richard Myers' 'Richard Virenque' 'Robert Blake' 'Robert Duvall'\n",
      " 'Robert Mueller' 'Robert Redford' 'Roman Polanski' 'Rubens Barrichello'\n",
      " 'Rudolph Giuliani' 'Russell Simmons' 'Saddam Hussein' 'Serena Williams'\n",
      " 'Sergei Ivanov' 'Sergio Vieira De Mello' 'Sharon Stone' 'Shimon Peres'\n",
      " 'Sophia Loren' 'Sourav Ganguly' 'Spencer Abraham' 'Steffi Graf'\n",
      " 'Susan Sarandon' 'Sylvester Stallone' 'Taha Yassin Ramadan'\n",
      " 'Tang Jiaxuan' 'Tariq Aziz' 'Thabo Mbeki' 'Tiger Woods' 'Tim Henman'\n",
      " 'Tom Cruise' 'Tom Daschle' 'Tom Hanks' 'Tom Harkin' 'Tom Ridge'\n",
      " 'Tommy Franks' 'Tommy Haas' 'Tony Blair' 'Trent Lott' 'Tung Chee-hwa'\n",
      " 'Vaclav Havel' 'Valentino Rossi' 'Vanessa Redgrave' 'Venus Williams'\n",
      " 'Vicente Fernandez' 'Vicente Fox' 'Victoria Clarke' 'Vladimir Putin'\n",
      " 'Vojislav Kostunica' 'Winona Ryder' 'Woody Allen' 'Xanana Gusmao'\n",
      " 'Yao Ming' 'Yashwant Sinha' 'Yasser Arafat' 'Yoko Ono' 'Yoriko Kawaguchi'\n",
      " 'Zhu Rongji']\n"
     ]
    }
   ],
   "source": [
    "print(\"Képek száma:\", len(lfw_dataset.images))\n",
    "print(\"Kép mérete (magasság, szélesség):\", lfw_dataset.images.shape[1], \"x\", lfw_dataset.images.shape[2])\n",
    "print(\"Célok száma:\", len(lfw_dataset.target))\n",
    "print(\"Személyek száma:\", len(lfw_dataset.target_names))\n",
    "print(\"Személyek nevei:\", lfw_dataset.target_names)"
   ]
  },
  {
   "cell_type": "code",
   "execution_count": 8,
   "id": "e3a4014c",
   "metadata": {},
   "outputs": [
    {
     "name": "stdout",
     "output_type": "stream",
     "text": [
      "kesz\n"
     ]
    }
   ],
   "source": [
    "import numpy as np\n",
    "\n",
    "np.random.seed(42) \n",
    "selected_indices = np.random.choice(total_images, size=200, replace=False)\n",
    "print(\"kesz\")"
   ]
  },
  {
   "cell_type": "code",
   "execution_count": 9,
   "id": "585cd535",
   "metadata": {},
   "outputs": [],
   "source": [
    "selected_images = lfw_dataset.images[selected_indices]\n",
    "selected_targets = lfw_dataset.target[selected_indices]"
   ]
  },
  {
   "cell_type": "code",
   "execution_count": 10,
   "id": "0d354394",
   "metadata": {},
   "outputs": [],
   "source": [
    "selected_names = [lfw_dataset.target_names[t] for t in selected_targets]"
   ]
  },
  {
   "cell_type": "code",
   "execution_count": 11,
   "id": "7117168c",
   "metadata": {},
   "outputs": [
    {
     "name": "stdout",
     "output_type": "stream",
     "text": [
      "A képek hozzárendelése mentve a selected_images.csv fájlba.\n"
     ]
    }
   ],
   "source": [
    "import pandas as pd\n",
    "\n",
    "df = pd.DataFrame({\n",
    "    'image_index': range(200),\n",
    "    'person_name': selected_names\n",
    "})\n",
    "\n",
    "df.to_csv('selected_images.csv', index=False)\n",
    "print(\"A képek hozzárendelése mentve a selected_images.csv fájlba.\")"
   ]
  },
  {
   "cell_type": "markdown",
   "id": "ecf3033c",
   "metadata": {},
   "source": [
    "## 2. Feladat"
   ]
  },
  {
   "cell_type": "code",
   "execution_count": 13,
   "id": "ef85cfc5",
   "metadata": {},
   "outputs": [
    {
     "name": "stdout",
     "output_type": "stream",
     "text": [
      "Használt eszköz: cpu\n"
     ]
    }
   ],
   "source": [
    "import torch\n",
    "from facenet_pytorch import MTCNN, InceptionResnetV1\n",
    "from PIL import Image\n",
    "import matplotlib.pyplot as plt\n",
    "\n",
    "# Megvizsgáljuk hogy tudunk-e GPU-t használni\n",
    "device = torch.device('cuda' if torch.cuda.is_available() else 'cpu')\n",
    "print(\"Használt eszköz:\", device)"
   ]
  },
  {
   "cell_type": "code",
   "execution_count": 14,
   "id": "bc5fb4a7",
   "metadata": {},
   "outputs": [],
   "source": [
    "mtcnn = MTCNN(image_size=160, margin=0, min_face_size=20, device=device, post_process=True)"
   ]
  },
  {
   "cell_type": "code",
   "execution_count": 15,
   "id": "5e132099",
   "metadata": {},
   "outputs": [
    {
     "data": {
      "application/vnd.jupyter.widget-view+json": {
       "model_id": "0becc011759f4c13b428a5c80a59952f",
       "version_major": 2,
       "version_minor": 0
      },
      "text/plain": [
       "  0%|          | 0.00/107M [00:00<?, ?B/s]"
      ]
     },
     "metadata": {},
     "output_type": "display_data"
    }
   ],
   "source": [
    "resnet = InceptionResnetV1(pretrained='vggface2').eval().to(device)"
   ]
  },
  {
   "cell_type": "code",
   "execution_count": 28,
   "id": "8774df18",
   "metadata": {},
   "outputs": [
    {
     "name": "stdout",
     "output_type": "stream",
     "text": [
      "Nincs arc a(z) 37. képen\n",
      "Nincs arc a(z) 52. képen\n",
      "Nincs arc a(z) 55. képen\n",
      "Nincs arc a(z) 68. képen\n",
      "Nincs arc a(z) 71. képen\n",
      "Nincs arc a(z) 72. képen\n",
      "Nincs arc a(z) 82. képen\n",
      "Nincs arc a(z) 84. képen\n",
      "Nincs arc a(z) 90. képen\n",
      "Nincs arc a(z) 107. képen\n",
      "Nincs arc a(z) 111. képen\n",
      "Nincs arc a(z) 119. képen\n",
      "Nincs arc a(z) 137. képen\n",
      "Nincs arc a(z) 153. képen\n",
      "Nincs arc a(z) 154. képen\n",
      "Nincs arc a(z) 168. képen\n",
      "Nincs arc a(z) 174. képen\n",
      "Nincs arc a(z) 178. képen\n",
      "Nincs arc a(z) 181. képen\n",
      "Nincs arc a(z) 183. képen\n",
      "Nincs arc a(z) 188. képen\n",
      "Nincs arc a(z) 194. képen\n",
      "Nincs arc a(z) 197. képen\n",
      "Minden kép feldolgozva, face_embeddings.csv létrehozva.\n"
     ]
    }
   ],
   "source": [
    "embeddings = []\n",
    "names_list = []\n",
    "\n",
    "for i, img_gray in enumerate(selected_images):\n",
    "    img_pil = Image.fromarray((img_gray * 255).astype('uint8'), mode='L')\n",
    "    img_pil = img_pil.convert('RGB')\n",
    "    \n",
    "    face = mtcnn(img_pil)\n",
    "    if face is None:\n",
    "        print(f\"Nincs arc a(z) {i}. képen\")\n",
    "        continue\n",
    "\n",
    "    with torch.no_grad():\n",
    "        embedding = resnet(face.unsqueeze(0).to(device))\n",
    "    embedding = embedding.squeeze().cpu().numpy()\n",
    "\n",
    "    embeddings.append(embedding)\n",
    "    names_list.append(selected_names[i])\n",
    "\n",
    "\n",
    "emb_arr = np.array(embeddings)\n",
    "name_arr = np.array(names_list)\n",
    "\n",
    "df_embed = pd.DataFrame(emb_arr)\n",
    "df_embed['name'] = name_arr\n",
    "df_embed.to_csv('face_embeddings.csv', index=False)\n",
    "print(\"Minden kép feldolgozva, face_embeddings.csv létrehozva.\")"
   ]
  },
  {
   "cell_type": "code",
   "execution_count": 29,
   "id": "e7ed943f",
   "metadata": {},
   "outputs": [
    {
     "name": "stdout",
     "output_type": "stream",
     "text": [
      "Face embeddingek és nevek elmentve a face_embeddings.csv fájlba.\n"
     ]
    }
   ],
   "source": [
    "emb_arr = np.array(embeddings)\n",
    "name_arr = np.array(names_list)\n",
    "\n",
    "df_embed = pd.DataFrame(emb_arr)\n",
    "df_embed['name'] = name_arr\n",
    "\n",
    "# A DataFrame utolsó oszlopa lesz a 'name', az első 512 az embedding komponensei.\n",
    "# Mentés CSV-be:\n",
    "df_embed.to_csv('face_embeddings.csv', index=False)\n",
    "\n",
    "print(\"Face embeddingek és nevek elmentve a face_embeddings.csv fájlba.\")"
   ]
  },
  {
   "cell_type": "code",
   "execution_count": 30,
   "id": "ba847f67",
   "metadata": {},
   "outputs": [
    {
     "name": "stdout",
     "output_type": "stream",
     "text": [
      "          0         1         2         3         4         5         6  \\\n",
      "0  0.044973  0.004615 -0.002142 -0.025342 -0.069977 -0.004855  0.009609   \n",
      "1  0.048848 -0.018901 -0.020816 -0.050563 -0.052840 -0.108548 -0.000617   \n",
      "2  0.035714  0.068572 -0.095392 -0.067740  0.029122 -0.031794 -0.034989   \n",
      "3  0.038403 -0.021844  0.008826 -0.038153 -0.042987  0.005250  0.009682   \n",
      "4  0.041577 -0.042635 -0.013814 -0.008284 -0.069091 -0.102482 -0.038224   \n",
      "\n",
      "          7         8         9  ...       503       504       505       506  \\\n",
      "0  0.033551 -0.030821  0.033543  ... -0.033439  0.018423 -0.008262 -0.036081   \n",
      "1  0.040050 -0.041165  0.032763  ... -0.007247  0.019450  0.078061 -0.060029   \n",
      "2  0.115183 -0.029022  0.046971  ... -0.076476  0.044365  0.060939 -0.047252   \n",
      "3 -0.019798  0.037720 -0.052682  ...  0.025103  0.057463  0.029047  0.051268   \n",
      "4  0.004350 -0.033183  0.028662  ...  0.014042  0.037236  0.060095 -0.087396   \n",
      "\n",
      "        507       508       509       510       511             name  \n",
      "0  0.044515 -0.001246 -0.001730 -0.034626 -0.022130  Eduardo Duhalde  \n",
      "1  0.076338  0.030753  0.038419 -0.004111 -0.132715    George W Bush  \n",
      "2  0.047581  0.001932 -0.009964 -0.018530 -0.011807      Hugo Chavez  \n",
      "3  0.052245 -0.020805 -0.045020  0.009703 -0.079636        Tom Ridge  \n",
      "4  0.069157  0.037405  0.022333  0.020924 -0.140152    George W Bush  \n",
      "\n",
      "[5 rows x 513 columns]\n"
     ]
    }
   ],
   "source": [
    "df_check = pd.read_csv('face_embeddings.csv')\n",
    "print(df_check.head())"
   ]
  },
  {
   "cell_type": "code",
   "execution_count": 31,
   "id": "0dc31555",
   "metadata": {},
   "outputs": [
    {
     "name": "stdout",
     "output_type": "stream",
     "text": [
      "Beágyazások száma: 177\n"
     ]
    }
   ],
   "source": [
    "print(\"Beágyazások száma:\", len(embeddings))"
   ]
  },
  {
   "cell_type": "markdown",
   "id": "af50cb85",
   "metadata": {},
   "source": [
    "# 3. Feladat"
   ]
  },
  {
   "cell_type": "code",
   "execution_count": 36,
   "id": "f31cb4c3",
   "metadata": {},
   "outputs": [
    {
     "name": "stdout",
     "output_type": "stream",
     "text": [
      "Train képek száma: 141\n",
      "Test képek száma: 36\n",
      "Train és Test halmazok létrehozva és elmentve.\n"
     ]
    }
   ],
   "source": [
    "groups = df_embed.groupby('name')\n",
    "\n",
    "train_rows = []\n",
    "test_rows = []\n",
    "\n",
    "np.random.seed(42)\n",
    "\n",
    "#Nem tudtam elérni a pontos 150-50 szétválogatást, úgyhogy megközelítőlegesen próbáltam összehozni az arányt.\n",
    "for name, group in groups:\n",
    "    group = group.sample(frac=1, random_state=42).reset_index(drop=True)\n",
    "    \n",
    "    count = len(group)\n",
    "    test_count = max(1, round(count * 0.25))\n",
    "    \n",
    "    if test_count >= count:\n",
    "        test_count = count - 1\n",
    "    \n",
    "    test_group = group.iloc[:test_count]\n",
    "    train_group = group.iloc[test_count:]\n",
    "    \n",
    "    test_rows.append(test_group)\n",
    "    train_rows.append(train_group)\n",
    "\n",
    "# Összefésüljük a train és test halmazokat\n",
    "train_df = pd.concat(train_rows, ignore_index=True)\n",
    "test_df = pd.concat(test_rows, ignore_index=True)\n",
    "\n",
    "print(\"Train képek száma:\", len(train_df))\n",
    "print(\"Test képek száma:\", len(test_df))"
   ]
  },
  {
   "cell_type": "markdown",
   "id": "53af83a7",
   "metadata": {},
   "source": [
    "# 4-5. Feladat"
   ]
  },
  {
   "cell_type": "markdown",
   "id": "a40b8439",
   "metadata": {},
   "source": [
    "## Kísérletezés több modellel hogy megnézzük melyik adja a legpontosabb eredményt"
   ]
  },
  {
   "cell_type": "markdown",
   "id": "0c42d4ad",
   "metadata": {},
   "source": [
    "### Megoldás döntési fával:"
   ]
  },
  {
   "cell_type": "code",
   "execution_count": 42,
   "id": "cb6d0507",
   "metadata": {},
   "outputs": [
    {
     "name": "stdout",
     "output_type": "stream",
     "text": [
      "Pontosság a teszt halmazon: 0.5833333333333334\n"
     ]
    }
   ],
   "source": [
    "from sklearn.tree import DecisionTreeClassifier\n",
    "from sklearn.metrics import accuracy_score\n",
    "\n",
    "X_train = train_df.iloc[:, :-1].values  \n",
    "y_train = train_df.iloc[:, -1].values   # Az utolsó oszlop a 'name'\n",
    "\n",
    "X_test = test_df.iloc[:, :-1].values\n",
    "y_test = test_df.iloc[:, -1].values\n",
    "\n",
    "clf = DecisionTreeClassifier(random_state=42)\n",
    "clf.fit(X_train, y_train)\n",
    "\n",
    "y_pred = clf.predict(X_test)\n",
    "\n",
    "# Pontosság:\n",
    "acc = accuracy_score(y_test, y_pred)\n",
    "print(\"Pontosság a teszt halmazon:\", acc)"
   ]
  },
  {
   "cell_type": "markdown",
   "id": "23699aa9",
   "metadata": {},
   "source": [
    "### KNN modell"
   ]
  },
  {
   "cell_type": "code",
   "execution_count": 44,
   "id": "98ccd138",
   "metadata": {},
   "outputs": [
    {
     "name": "stdout",
     "output_type": "stream",
     "text": [
      "Pontosság a teszt halmazon (KNN): 0.7777777777777778\n"
     ]
    }
   ],
   "source": [
    "from sklearn.neighbors import KNeighborsClassifier\n",
    "from sklearn.metrics import accuracy_score\n",
    "\n",
    "X_train = train_df.iloc[:, :-1].values\n",
    "y_train = train_df.iloc[:, -1].values\n",
    "\n",
    "X_test = test_df.iloc[:, :-1].values\n",
    "y_test = test_df.iloc[:, -1].values\n",
    "\n",
    "knn = KNeighborsClassifier(n_neighbors=5, metric='cosine')\n",
    "\n",
    "knn.fit(X_train, y_train)\n",
    "\n",
    "y_pred = knn.predict(X_test)\n",
    "\n",
    "# Pontosság:\n",
    "acc = accuracy_score(y_test, y_pred)\n",
    "print(\"Pontosság a teszt halmazon (KNN):\", acc)"
   ]
  },
  {
   "cell_type": "markdown",
   "id": "28ceb2bc",
   "metadata": {},
   "source": [
    "### Random Forest:"
   ]
  },
  {
   "cell_type": "code",
   "execution_count": 45,
   "id": "d0e74ec2",
   "metadata": {},
   "outputs": [
    {
     "name": "stdout",
     "output_type": "stream",
     "text": [
      "Pontosság a teszt halmazon (Random Forest): 0.9166666666666666\n"
     ]
    }
   ],
   "source": [
    "from sklearn.ensemble import RandomForestClassifier\n",
    "from sklearn.metrics import accuracy_score\n",
    "\n",
    "X_train = train_df.iloc[:, :-1].values\n",
    "y_train = train_df.iloc[:, -1].values\n",
    "\n",
    "X_test = test_df.iloc[:, :-1].values\n",
    "y_test = test_df.iloc[:, -1].values\n",
    "\n",
    "clf = RandomForestClassifier(n_estimators=100, random_state=42)\n",
    "clf.fit(X_train, y_train)\n",
    "\n",
    "y_pred = clf.predict(X_test)\n",
    "\n",
    "# Pontosság:\n",
    "acc = accuracy_score(y_test, y_pred)\n",
    "print(\"Pontosság a teszt halmazon (Random Forest):\", acc)"
   ]
  },
  {
   "cell_type": "markdown",
   "id": "facda8cb",
   "metadata": {},
   "source": [
    "### A három model közül kijelenthetjük hogy a Random Forest model adja a legpontosabb eredményt, de a KNN modell is jól teljesít."
   ]
  },
  {
   "cell_type": "code",
   "execution_count": null,
   "id": "14c75371",
   "metadata": {},
   "outputs": [],
   "source": []
  }
 ],
 "metadata": {
  "kernelspec": {
   "display_name": "Python 3 (ipykernel)",
   "language": "python",
   "name": "python3"
  },
  "language_info": {
   "codemirror_mode": {
    "name": "ipython",
    "version": 3
   },
   "file_extension": ".py",
   "mimetype": "text/x-python",
   "name": "python",
   "nbconvert_exporter": "python",
   "pygments_lexer": "ipython3",
   "version": "3.11.4"
  }
 },
 "nbformat": 4,
 "nbformat_minor": 5
}
